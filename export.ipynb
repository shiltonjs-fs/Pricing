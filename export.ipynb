{
 "cells": [
  {
   "cell_type": "code",
   "execution_count": 1,
   "metadata": {},
   "outputs": [
    {
     "name": "stderr",
     "output_type": "stream",
     "text": [
      "/opt/anaconda3/envs/myenv/lib/python3.11/site-packages/tqdm/auto.py:21: TqdmWarning: IProgress not found. Please update jupyter and ipywidgets. See https://ipywidgets.readthedocs.io/en/stable/user_install.html\n",
      "  from .autonotebook import tqdm as notebook_tqdm\n"
     ]
    }
   ],
   "source": [
    "import re\n",
    "import os\n",
    "import pickle\n",
    "import snowflake.connector\n",
    "from snowflake.connector.pandas_tools import write_pandas\n",
    "import pandas as pd\n",
    "import numpy as np\n",
    "\n",
    "from transformers import AutoModelForSequenceClassification, AutoTokenizer\n",
    "from sentence_transformers import SentenceTransformer, util"
   ]
  },
  {
   "cell_type": "code",
   "execution_count": null,
   "metadata": {},
   "outputs": [],
   "source": [
    "# Get SQL query file as data input \n",
    "def get_sql_file_as_text(file_path):\n",
    "  \n",
    "  with open(file_path, 'r') as f:\n",
    "    sql_content = f.read()\n",
    "  return sql_content\n",
    "\n",
    "# Establish connection with Snowflake\n",
    "conn = snowflake.connector.connect(connection_name=\"fundingsociety.sg.ap-southeast-1.aws.privatelink\")\n",
    "\n",
    "# Write SQL Snowflake Query here\n",
    "sql_file = \"tx total by month cust nextday and owner.sql\"\n",
    "sql_text = get_sql_file_as_text(sql_file)\n",
    "my_query=sql_text\n",
    "\n",
    "# Get data from query above\n",
    "df_scratch = conn.cursor().execute(my_query).fetch_pandas_all()\n",
    "\n",
    "# Export to csv\n",
    "df_scratch.to_csv('tx total by month cust nextday card and owner.csv')"
   ]
  }
 ],
 "metadata": {
  "kernelspec": {
   "display_name": "myenv",
   "language": "python",
   "name": "python3"
  },
  "language_info": {
   "codemirror_mode": {
    "name": "ipython",
    "version": 3
   },
   "file_extension": ".py",
   "mimetype": "text/x-python",
   "name": "python",
   "nbconvert_exporter": "python",
   "pygments_lexer": "ipython3",
   "version": "3.11.10"
  }
 },
 "nbformat": 4,
 "nbformat_minor": 2
}
